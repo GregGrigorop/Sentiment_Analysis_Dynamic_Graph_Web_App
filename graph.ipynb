{
 "cells": [
  {
   "cell_type": "markdown",
   "id": "celtic-holmes",
   "metadata": {},
   "source": [
    "# Dynamic graph - Sentiment scores of articles and associated named entities"
   ]
  },
  {
   "cell_type": "code",
   "execution_count": 1,
   "id": "uniform-mortgage",
   "metadata": {},
   "outputs": [],
   "source": [
    "import pandas as pd\n",
    "import numpy as np\n",
    "import pickle\n",
    "import matplotlib.pyplot as plt\n",
    "\n",
    "import datetime\n",
    "import ipywidgets as widgets\n",
    "import plotly.graph_objects as go\n",
    "from IPython.display import display, HTML, Image\n",
    "import networkx as nx"
   ]
  },
  {
   "cell_type": "code",
   "execution_count": 2,
   "id": "monetary-reconstruction",
   "metadata": {},
   "outputs": [],
   "source": [
    "# Loading the dataset\n",
    "with open('final_dataset.pickle', 'rb') as file:\n",
    "    df_final = pickle.load(file)"
   ]
  },
  {
   "cell_type": "code",
   "execution_count": 3,
   "id": "psychological-sapphire",
   "metadata": {},
   "outputs": [],
   "source": [
    "df_final = df_final.rename(columns={'level_0': 'index'})"
   ]
  },
  {
   "cell_type": "code",
   "execution_count": 4,
   "id": "capable-pharmacy",
   "metadata": {},
   "outputs": [],
   "source": [
    "def get_entities(df):\n",
    "    # getting all the unique named entities\n",
    "    entities_all = []\n",
    "    for i in range(len(df)):\n",
    "        for j in range(len(df['entities'].iloc[i])):\n",
    "            entities_d = {}\n",
    "            entities_d.update({'entity': df['entities'].iloc[i][j]})\n",
    "            entities_all.append(entities_d)\n",
    "    entities_df_t = pd.DataFrame.from_dict(entities_all)\n",
    "    entities_df_t = entities_df_t.reset_index()\n",
    "    \n",
    "    return entities_df_t"
   ]
  },
  {
   "cell_type": "code",
   "execution_count": 5,
   "id": "collectible-meaning",
   "metadata": {},
   "outputs": [],
   "source": [
    "entities_df = get_entities(df_final)\n",
    "# entities_df"
   ]
  },
  {
   "cell_type": "code",
   "execution_count": 6,
   "id": "dense-calculation",
   "metadata": {},
   "outputs": [],
   "source": [
    "def entities_assign_num(df):\n",
    "    # assigning numbers to the various named entities identified\n",
    "    d_ents_t = {}\n",
    "    for i in enumerate(list(df['entity'].unique())):\n",
    "        d_ents_t[i[1]] = i[0]\n",
    "    \n",
    "    return d_ents_t"
   ]
  },
  {
   "cell_type": "code",
   "execution_count": 7,
   "id": "affiliated-glasgow",
   "metadata": {},
   "outputs": [],
   "source": [
    "# dictionary for finding named entities\n",
    "d_ents = entities_assign_num(entities_df)"
   ]
  },
  {
   "cell_type": "code",
   "execution_count": 8,
   "id": "planned-compression",
   "metadata": {},
   "outputs": [],
   "source": [
    "def find_entities(df, num_l):\n",
    "    # assigning numbers to the various named entities identified\n",
    "    d_ents_t = {}\n",
    "    for i in enumerate(list(df['entity'].unique())):\n",
    "        d_ents_t[i[0]] = i[1]\n",
    "        \n",
    "    all_ents = []\n",
    "    for i in num_l:\n",
    "        ents_d = {}\n",
    "        ents_d.update({'entity_number': i,'entity': d_ents_t[i]})\n",
    "        all_ents.append(ents_d)\n",
    "    \n",
    "    return pd.DataFrame.from_dict(all_ents)"
   ]
  },
  {
   "cell_type": "code",
   "execution_count": 9,
   "id": "bigger-period",
   "metadata": {},
   "outputs": [],
   "source": [
    "# setting colours and weights to different ranges of sentimetn scores\n",
    "colors_list = ['black', 'darkorchid', 'red', 'dodgerblue', 'lawngreen']\n",
    "score_thresholds = np.arange(-1, 1.1, 0.4)[1:]\n",
    "weights_list = np.arange(0.4, 2.1, 0.4)"
   ]
  },
  {
   "cell_type": "code",
   "execution_count": 10,
   "id": "demanding-nurse",
   "metadata": {},
   "outputs": [],
   "source": [
    "def cols_weights_thresholds(cols_l, weights_l, thresholds_l):\n",
    "    l_thres = []\n",
    "    l_thres.append(f\"-1 to {round(thresholds_l[0], 2)}\")\n",
    "    for i in range(1 ,len(thresholds_l)):\n",
    "        l_thres.append(f\"{round(thresholds_l[i-1], 2)} to {round(thresholds_l[i], 2)}\")\n",
    "\n",
    "    l_cols_w = []\n",
    "    for i in range(len(cols_l)):\n",
    "        d_cols_w = {}\n",
    "        d_cols_w.update({'main_edge_colour': cols_l[i], 'main_edge_width': round(weights_l[i], 2), 'sentiment_score_ranges': l_thres[i]})\n",
    "        l_cols_w.append(d_cols_w)\n",
    "    \n",
    "    return pd.DataFrame.from_dict(l_cols_w)"
   ]
  },
  {
   "cell_type": "code",
   "execution_count": 19,
   "id": "loved-blanket",
   "metadata": {},
   "outputs": [
    {
     "data": {
      "application/vnd.jupyter.widget-view+json": {
       "model_id": "86c16ea476be49c99c1880a5c79567eb",
       "version_major": 2,
       "version_minor": 0
      },
      "text/plain": [
       "DatePicker(value=datetime.date(2022, 5, 1), description='Date')"
      ]
     },
     "metadata": {},
     "output_type": "display_data"
    },
    {
     "data": {
      "application/vnd.jupyter.widget-view+json": {
       "model_id": "514f4d5f8e9d4693bd76c2c04978aede",
       "version_major": 2,
       "version_minor": 0
      },
      "text/plain": [
       "Dropdown(description='Categories', options=('all', 'news', 'sport', 'future', 'culture', 'worklife', 'travel')…"
      ]
     },
     "metadata": {},
     "output_type": "display_data"
    }
   ],
   "source": [
    "output = widgets.Output()\n",
    "\n",
    "# creating a dropdown menu for categories\n",
    "options = ['all']\n",
    "options.extend(list(df_final['category1'].unique()))\n",
    "dropdown = widgets.Dropdown(options=options, description=\"Categories\")\n",
    "\n",
    "# creating a date picker\n",
    "dp = widgets.DatePicker(value = datetime.date(2022,5,1), description='Date')\n",
    "\n",
    "# plot function\n",
    "def plot_sentiment(date_selected, category_selected='news'):\n",
    "    output.clear_output()\n",
    "    \n",
    "    # data\n",
    "    df_temp = df_final[df_final['date'] == pd.to_datetime(date_selected, format = '%Y-%m-%d %H:%M:%S')]\n",
    "    try:\n",
    "        if val_cat != 'all':\n",
    "            df_temp = df_temp[df_temp['category1'] == val_cat]\n",
    "    except NameError:\n",
    "        pass\n",
    "    \n",
    "    knowledge_graph(df_temp)\n",
    "    \n",
    "    x = df_temp['index']\n",
    "    y = df_temp['sentiment_score']\n",
    "    \n",
    "    # layout\n",
    "    layout = go.Layout(\n",
    "        title='Sentiment Scores from Vader',\n",
    "        xaxis=dict(\n",
    "            title='Article Index'),\n",
    "        yaxis=dict(\n",
    "            title='Scores')\n",
    "    )\n",
    "    \n",
    "    # figure\n",
    "    figure = go.Figure(layout=layout)\n",
    "    \n",
    "    # adding a scatter trace to the figure\n",
    "    figure.add_trace(\n",
    "        go.Scatter(\n",
    "            mode='markers',\n",
    "            x=x,\n",
    "            y=y,\n",
    "            marker=dict(\n",
    "                color='darkturquoise',\n",
    "                size=12,\n",
    "                opacity=0.5,\n",
    "                line=dict(\n",
    "                    color='burlywood',\n",
    "                    width=1)\n",
    "                        ),\n",
    "            showlegend=False\n",
    "        )\n",
    "    )\n",
    "    \n",
    "    # displaying the output (the figure)\n",
    "    with output:\n",
    "        display(figure.show())\n",
    "        display(Image(filename='filename.png'))\n",
    "        display(knowledge_graph(df_temp))\n",
    "        \n",
    "def select_category(category_selected):\n",
    "    output.clear_output()\n",
    "    \n",
    "    # data\n",
    "    if category_selected != 'all':\n",
    "        df_temp = df_final[df_final['category1'] == category_selected]\n",
    "    else:\n",
    "        df_temp = df_final.copy()\n",
    "    try:\n",
    "        df_temp = df_temp[df_temp['date'] == pd.to_datetime(val_date, format = '%Y-%m-%d %H:%M:%S')]\n",
    "    except NameError:\n",
    "        df_temp = df_temp[df_temp['date'] == datetime.date(2022,1,1)]\n",
    "    \n",
    "    knowledge_graph(df_temp)\n",
    "    \n",
    "    x = df_temp['index']\n",
    "    y = df_temp['sentiment_score']\n",
    "    \n",
    "    # layout\n",
    "    layout = go.Layout(\n",
    "        title='Sentiment Scores from Vader',\n",
    "        xaxis=dict(\n",
    "            title='Article Index'),\n",
    "        yaxis=dict(\n",
    "            title='Scores')\n",
    "    )\n",
    "    \n",
    "    # figure\n",
    "    figure = go.Figure(layout=layout)\n",
    "    \n",
    "    # adding a scatter trace to the figure\n",
    "    figure.add_trace(\n",
    "        go.Scatter(\n",
    "            mode='markers',\n",
    "            x=x,\n",
    "            y=y,\n",
    "            marker=dict(\n",
    "                color='turquoise',\n",
    "                size=12,\n",
    "                opacity=0.5,\n",
    "                line=dict(\n",
    "                    color='burlywood',\n",
    "                    width=1)\n",
    "                        ),\n",
    "            showlegend=False\n",
    "        )\n",
    "    )\n",
    "    \n",
    "    # displaying the output (the figure)\n",
    "    with output:\n",
    "        display(figure.show())\n",
    "        display(Image(filename='filename.png'))\n",
    "        display(knowledge_graph(df_temp))\n",
    "\n",
    "def colors_weights(score, score_thresholds_l = score_thresholds, colors_l = colors_list, weights_l = weights_list):\n",
    "    for i in range(len(score_thresholds)):\n",
    "        if score < score_thresholds[i]:\n",
    "            return [colors_list[i], weights_list[i]]\n",
    "\n",
    "def knowledge_graph(df):\n",
    "\n",
    "    G = nx.Graph()\n",
    "\n",
    "    edges = []\n",
    "\n",
    "    entities = []\n",
    "\n",
    "    sent_scores = []\n",
    "    \n",
    "    titles_links = []\n",
    "\n",
    "    for i in range(len(df)):\n",
    "        edges.append((df['category1'].iloc[i].upper(), df['index'].iloc[i]))\n",
    "        sent_scores.append(df['sentiment_score'].iloc[i])\n",
    "        entities.append((df['entities'].iloc[i]))\n",
    "        \n",
    "        d_temp = {}\n",
    "        d_temp.update({'article_number': df['index'].iloc[i], 'title': df['title'].iloc[i], 'link': df['link'].iloc[i]})\n",
    "        titles_links.append(d_temp)\n",
    "\n",
    "    titles_links_df = pd.DataFrame.from_dict(titles_links)\n",
    "    # making the links in the DataFrame clickable\n",
    "    titles_links_df = HTML(titles_links_df.to_html(render_links=True, escape=False))\n",
    "    \n",
    "    entities_temp = []\n",
    "    for i in range(len(edges)):\n",
    "        G.add_edge(edges[i][0], edges[i][1], #length = round(sent_scores[i] + 1, 3),\n",
    "                   color = colors_weights(round(sent_scores[i], 3))[0],\n",
    "                    weight = colors_weights(round(sent_scores[i], 3))[1])\n",
    "        for j in range(len(entities[i])):\n",
    "            G.add_edge(edges[i][1], d_ents[entities[i][j]], color='darkgrey') #length = 1)\n",
    "            entities_temp.append(d_ents[entities[i][j]])\n",
    "            \n",
    "    colors = list(nx.get_edge_attributes(G,'color').values())\n",
    "    weights = list(nx.get_edge_attributes(G,'weight').values())\n",
    "    \n",
    "    display(cols_weights_thresholds(colors_list, weights_list, score_thresholds))\n",
    "    \n",
    "    display(titles_links_df)\n",
    "    \n",
    "    display(find_entities(entities_df, list(set(entities_temp))))\n",
    "    \n",
    "#     cmap = plt.cm.coolwarm\n",
    "\n",
    "    nx.draw(G, with_labels=True, edge_color=colors, width=weights)#, cmap=cmap, vmin='black', vmax='lightblue')\n",
    "    plt.savefig(\"filename.png\")\n",
    "\n",
    "#     sm = plt.cm.ScalarMappable(cmap=cmap)\n",
    "#     sm.set_array([])\n",
    "#     cbar = plt.colorbar(sm)\n",
    "        \n",
    "# creating an event handler (the value/date comes from the display variable)\n",
    "def event_handler_date(value):\n",
    "    global val_date\n",
    "    val_date = value.new\n",
    "    plot_sentiment(value.new) # with .new we are getting the most recent value coming from DatePicker\n",
    "     \n",
    "def dropdown_event_handler(value):\n",
    "    global val_cat\n",
    "    val_cat = value.new\n",
    "    select_category(value.new) # with .new we are getting the most recent value coming from the dropdown menu\n",
    "    \n",
    "# binding the event handler to the DatePicker user input (via display(dp)) by observing the event (the user's click - when that\n",
    "# happens the value the user provides is passed into the event_handler_date function, which then passes that into the \n",
    "# plot_sentiment function and the plot is generated)\n",
    "dp.observe(event_handler_date, names='value')\n",
    "\n",
    "# binding the event handler to the categories dropdown menu user input (via display(dropdown)) by observing the event\n",
    "dropdown.observe(dropdown_event_handler, names='value')\n",
    "\n",
    "# displaying the DatePicker\n",
    "display(dp)\n",
    "\n",
    "# displaying the dropdown menu\n",
    "display(dropdown)"
   ]
  },
  {
   "cell_type": "code",
   "execution_count": 20,
   "id": "adjustable-munich",
   "metadata": {},
   "outputs": [
    {
     "data": {
      "application/vnd.jupyter.widget-view+json": {
       "model_id": "a071d114e0a44084a95679f13f50f8a9",
       "version_major": 2,
       "version_minor": 0
      },
      "text/plain": [
       "Output()"
      ]
     },
     "metadata": {},
     "output_type": "display_data"
    }
   ],
   "source": [
    "# displaying the output coming from figure.show()\n",
    "display(output)"
   ]
  },
  {
   "cell_type": "code",
   "execution_count": 47,
   "id": "advanced-workshop",
   "metadata": {},
   "outputs": [],
   "source": [
    "# # function for hiding/revealing our code\n",
    "# HTML('''<script>\n",
    "# code_show=true;\n",
    "# function code_toggle() {\n",
    "#     if (code_show) {\n",
    "#         $('div.input').hide();\n",
    "#     } else {\n",
    "#         $('div.input').show();\n",
    "#     }\n",
    "#     code_show = !code_show\n",
    "# }\n",
    "# $(document).ready(code_toggle);\n",
    "# </script>\n",
    "# <form action=\"javascript:code_toggle()\"><input type=\"submit\" value=\"Click here to toggle the code on/off\"></form>''')"
   ]
  }
 ],
 "metadata": {
  "kernelspec": {
   "display_name": "Python 3 (ipykernel)",
   "language": "python",
   "name": "python3"
  },
  "language_info": {
   "codemirror_mode": {
    "name": "ipython",
    "version": 3
   },
   "file_extension": ".py",
   "mimetype": "text/x-python",
   "name": "python",
   "nbconvert_exporter": "python",
   "pygments_lexer": "ipython3",
   "version": "3.9.7"
  }
 },
 "nbformat": 4,
 "nbformat_minor": 5
}
